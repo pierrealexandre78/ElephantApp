{
 "cells": [
  {
   "cell_type": "markdown",
   "id": "8af8af5c",
   "metadata": {},
   "source": [
    "# Imports"
   ]
  },
  {
   "cell_type": "code",
   "execution_count": null,
   "id": "9e151a84",
   "metadata": {
    "ExecuteTime": {
     "end_time": "2024-09-05T12:09:37.176152Z",
     "start_time": "2024-09-05T12:09:35.818061Z"
    }
   },
   "outputs": [],
   "source": [
    "import pandas as pd \n",
    "import numpy as np \n"
   ]
  },
  {
   "cell_type": "markdown",
   "id": "e5b5393e",
   "metadata": {},
   "source": [
    "# Loading Data"
   ]
  },
  {
   "cell_type": "code",
   "execution_count": null,
   "id": "83ce5954",
   "metadata": {
    "ExecuteTime": {
     "end_time": "2024-09-05T12:09:37.372030Z",
     "start_time": "2024-09-05T12:09:37.177151Z"
    }
   },
   "outputs": [],
   "source": [
    "\n",
    "\n",
    "from sklearn.model_selection import train_test_split\n",
    "\n",
    "df = pd.read_csv(\"../data/train.csv\")\n",
    "\n",
    "train_df,test_df = train_test_split(df,random_state=42)"
   ]
  },
  {
   "cell_type": "code",
   "execution_count": null,
   "id": "5fc89f18",
   "metadata": {
    "ExecuteTime": {
     "end_time": "2024-09-05T12:09:37.388614Z",
     "start_time": "2024-09-05T12:09:37.373604Z"
    }
   },
   "outputs": [],
   "source": [
    "train_df.isna().sum().sort_values()\n",
    "train_df.dropna(axis=1).isna().sum().sort_values()"
   ]
  },
  {
   "cell_type": "markdown",
   "id": "d5921001",
   "metadata": {},
   "source": [
    "# Preprocessing"
   ]
  },
  {
   "cell_type": "code",
   "execution_count": null,
   "id": "e5ceeb5c",
   "metadata": {
    "ExecuteTime": {
     "end_time": "2024-09-05T12:09:37.392720Z",
     "start_time": "2024-09-05T12:09:37.389570Z"
    }
   },
   "outputs": [],
   "source": [
    "y_train = train_df.pop(\"SalePrice\")\n",
    "y_test = test_df.pop(\"SalePrice\")"
   ]
  },
  {
   "cell_type": "code",
   "execution_count": null,
   "id": "eb8bb50a",
   "metadata": {
    "ExecuteTime": {
     "end_time": "2024-09-05T12:09:37.398360Z",
     "start_time": "2024-09-05T12:09:37.393733Z"
    }
   },
   "outputs": [],
   "source": [
    "train_df_num = train_df.select_dtypes(\"number\").set_index(\"Id\")\n",
    "train_df_cat = train_df.select_dtypes(\"object\")\n",
    "test_df_num = test_df.select_dtypes(\"number\").set_index(\"Id\")\n",
    "test_df_cat = test_df.select_dtypes(\"object\")\n"
   ]
  },
  {
   "cell_type": "markdown",
   "id": "4efd0116",
   "metadata": {},
   "source": [
    "## Numeric Preprocessing"
   ]
  },
  {
   "cell_type": "markdown",
   "id": "993f418b",
   "metadata": {},
   "source": [
    "### Scaling"
   ]
  },
  {
   "cell_type": "code",
   "execution_count": null,
   "id": "3221e19f",
   "metadata": {
    "ExecuteTime": {
     "end_time": "2024-09-05T12:09:37.414839Z",
     "start_time": "2024-09-05T12:09:37.399231Z"
    }
   },
   "outputs": [],
   "source": [
    "from sklearn.preprocessing import StandardScaler\n",
    "\n",
    "scaler = StandardScaler()\n",
    "\n",
    "scaler.fit(train_df_num)\n",
    "train_df_num_scaled = pd.DataFrame(scaler.transform(train_df_num)\n",
    "                                   ,columns=train_df_num.columns)\n",
    "test_df_num_scaled = pd.DataFrame(scaler.transform(test_df_num)\n",
    "                                   ,columns=test_df_num.columns)\n",
    "\n",
    "train_df_num_scaled"
   ]
  },
  {
   "cell_type": "markdown",
   "id": "53899d96",
   "metadata": {},
   "source": [
    "### Filling Na (Numeric)"
   ]
  },
  {
   "cell_type": "code",
   "execution_count": null,
   "id": "da36d0c4",
   "metadata": {
    "ExecuteTime": {
     "end_time": "2024-09-05T12:09:37.505137Z",
     "start_time": "2024-09-05T12:09:37.417852Z"
    }
   },
   "outputs": [],
   "source": [
    "from sklearn.impute import SimpleImputer\n",
    "\n",
    "impute = SimpleImputer(strategy='mean')\n",
    "impute.fit(train_df_num_scaled)\n",
    "train_df_num_scaled = pd.DataFrame(impute.transform(train_df_num_scaled)\n",
    "                                   ,columns=train_df_num_scaled.columns)\n",
    "test_df_num_scaled = pd.DataFrame(impute.transform(test_df_num_scaled)\n",
    "                                                   ,columns=test_df_num_scaled.columns)\n"
   ]
  },
  {
   "cell_type": "markdown",
   "id": "a960b005",
   "metadata": {},
   "source": [
    "## Categorical columns"
   ]
  },
  {
   "cell_type": "code",
   "execution_count": null,
   "id": "760de708",
   "metadata": {},
   "outputs": [],
   "source": []
  },
  {
   "cell_type": "code",
   "execution_count": null,
   "id": "383b2c38",
   "metadata": {
    "ExecuteTime": {
     "end_time": "2024-09-05T12:09:37.509069Z",
     "start_time": "2024-09-05T12:09:37.505953Z"
    }
   },
   "outputs": [],
   "source": [
    "na_col = train_df_cat.isna().sum()/len(train_df_cat)\n",
    "na_col = list(na_col[na_col>0].index)"
   ]
  },
  {
   "cell_type": "code",
   "execution_count": null,
   "id": "3d0cc484",
   "metadata": {
    "ExecuteTime": {
     "end_time": "2024-09-05T12:09:37.515040Z",
     "start_time": "2024-09-05T12:09:37.511552Z"
    }
   },
   "outputs": [],
   "source": [
    "train_df_cat.drop(columns=na_col,inplace=True)\n",
    "test_df_cat.drop(columns=na_col,inplace=True)"
   ]
  },
  {
   "cell_type": "code",
   "execution_count": null,
   "id": "c587a7bb",
   "metadata": {
    "ExecuteTime": {
     "end_time": "2024-09-05T12:09:37.522485Z",
     "start_time": "2024-09-05T12:09:37.516271Z"
    }
   },
   "outputs": [],
   "source": [
    "more_than_seven_cat_col = list(train_df_cat.nunique()[train_df_cat.nunique() > 7].index)\n",
    "train_df_cat.drop(columns=more_than_seven_cat_col,inplace=True)\n",
    "test_df_cat.drop(columns=more_than_seven_cat_col,inplace=True)"
   ]
  },
  {
   "cell_type": "code",
   "execution_count": null,
   "id": "0ee52f4c",
   "metadata": {
    "ExecuteTime": {
     "end_time": "2024-09-05T12:09:37.539574Z",
     "start_time": "2024-09-05T12:09:37.523483Z"
    },
    "scrolled": true
   },
   "outputs": [],
   "source": [
    "from sklearn.preprocessing import OneHotEncoder\n",
    "\n",
    "ohe = OneHotEncoder(sparse_output=False,\n",
    "                   drop=\"first\",\n",
    "                   handle_unknown=\"ignore\"\n",
    "                   )\n",
    "\n",
    "ohe.fit(train_df_cat)\n",
    "\n",
    "train_df_cat = pd.DataFrame(ohe.transform(train_df_cat),columns=ohe.get_feature_names_out())\n",
    "test_df_cat = pd.DataFrame(ohe.transform(test_df_cat),columns=ohe.get_feature_names_out())"
   ]
  },
  {
   "cell_type": "code",
   "execution_count": null,
   "id": "dfb22f64",
   "metadata": {
    "ExecuteTime": {
     "end_time": "2024-09-05T12:09:37.542896Z",
     "start_time": "2024-09-05T12:09:37.540435Z"
    }
   },
   "outputs": [],
   "source": [
    "train_df_cat.shape, train_df_num_scaled.shape"
   ]
  },
  {
   "cell_type": "markdown",
   "id": "383c70f7",
   "metadata": {},
   "source": [
    "## Concatenate to create our train"
   ]
  },
  {
   "cell_type": "code",
   "execution_count": null,
   "id": "ec6921f9",
   "metadata": {
    "ExecuteTime": {
     "end_time": "2024-09-05T12:09:37.546993Z",
     "start_time": "2024-09-05T12:09:37.543754Z"
    },
    "scrolled": true
   },
   "outputs": [],
   "source": [
    "X_train = train_df_num_scaled.join(train_df_cat)\n",
    "X_test = test_df_num_scaled.join(test_df_cat)"
   ]
  },
  {
   "cell_type": "code",
   "execution_count": null,
   "id": "443b22b5",
   "metadata": {
    "ExecuteTime": {
     "end_time": "2024-09-05T12:09:37.550816Z",
     "start_time": "2024-09-05T12:09:37.547928Z"
    }
   },
   "outputs": [],
   "source": [
    "X_train.shape , X_test.shape"
   ]
  },
  {
   "cell_type": "code",
   "execution_count": null,
   "id": "6bd80da3",
   "metadata": {
    "ExecuteTime": {
     "end_time": "2024-09-05T12:09:37.556481Z",
     "start_time": "2024-09-05T12:09:37.553142Z"
    }
   },
   "outputs": [],
   "source": [
    "X_train.shape"
   ]
  },
  {
   "cell_type": "markdown",
   "id": "329abc82",
   "metadata": {},
   "source": [
    "# Models \n",
    "## Baseline"
   ]
  },
  {
   "cell_type": "code",
   "execution_count": null,
   "id": "5ed8358e",
   "metadata": {
    "ExecuteTime": {
     "end_time": "2024-09-05T12:09:37.561448Z",
     "start_time": "2024-09-05T12:09:37.557323Z"
    }
   },
   "outputs": [],
   "source": [
    "# A la mano\n",
    "print((y_test - y_test.mean()).abs().mean())\n",
    "# sklearn\n",
    "from sklearn.metrics import mean_absolute_error\n",
    "mean_absolute_error(y_test\n",
    "                    ,np.ones_like(y_test)*y_test.mean()\n",
    "                   )"
   ]
  },
  {
   "cell_type": "markdown",
   "id": "2cb4cc59",
   "metadata": {},
   "source": [
    "## Linear Regression"
   ]
  },
  {
   "cell_type": "code",
   "execution_count": null,
   "id": "15dc2d30",
   "metadata": {
    "ExecuteTime": {
     "end_time": "2024-09-05T12:09:37.658781Z",
     "start_time": "2024-09-05T12:09:37.565353Z"
    }
   },
   "outputs": [],
   "source": [
    "from sklearn.linear_model import LinearRegression\n",
    "\n",
    "# Instantiate the model\n",
    "lin = LinearRegression()\n",
    "# Fit the model on train\n",
    "lin.fit(X_train,y_train)\n",
    "# Make a prediction on test\n",
    "y_pred = lin.predict(X_test)\n",
    "\n",
    "lin.coef_"
   ]
  },
  {
   "cell_type": "code",
   "execution_count": null,
   "id": "f5499442",
   "metadata": {
    "ExecuteTime": {
     "end_time": "2024-09-05T12:09:37.672255Z",
     "start_time": "2024-09-05T12:09:37.660330Z"
    }
   },
   "outputs": [],
   "source": [
    "# MAE on the Train\n",
    "print(f\" The MAE on Train is {mean_absolute_error(y_train,lin.predict(X_train)):.2f}\")\n",
    "print(f\" The MAE on Test is {mean_absolute_error(y_test,y_pred):.2f}\")\n"
   ]
  },
  {
   "cell_type": "markdown",
   "id": "9aa95503",
   "metadata": {},
   "source": [
    "### Decision Tree"
   ]
  },
  {
   "cell_type": "code",
   "execution_count": null,
   "id": "4a5c4ec0",
   "metadata": {
    "ExecuteTime": {
     "end_time": "2024-09-05T12:09:37.725827Z",
     "start_time": "2024-09-05T12:09:37.673313Z"
    }
   },
   "outputs": [],
   "source": [
    "from sklearn.tree import DecisionTreeRegressor \n",
    "\n",
    "tree = DecisionTreeRegressor(max_depth=10)\n",
    "\n",
    "tree.fit(X_train,y_train)\n",
    "y_pred = tree.predict(X_test)\n",
    "\n",
    "# MAE on the Train\n",
    "print(f\" The MAE on Train is {mean_absolute_error(y_train,lin.predict(X_train)):.2f}\")\n",
    "print(f\" The MAE on Test is {mean_absolute_error(y_test,y_pred):.2f}\")\n"
   ]
  },
  {
   "cell_type": "markdown",
   "id": "c58886ee",
   "metadata": {},
   "source": [
    "### Random Forest"
   ]
  },
  {
   "cell_type": "code",
   "execution_count": null,
   "id": "3372baff",
   "metadata": {
    "ExecuteTime": {
     "end_time": "2024-09-05T12:09:38.891521Z",
     "start_time": "2024-09-05T12:09:37.728393Z"
    }
   },
   "outputs": [],
   "source": [
    "from sklearn.ensemble import RandomForestRegressor\n",
    "\n",
    "forest = RandomForestRegressor()\n",
    "\n",
    "\n",
    "forest.fit(X_train,y_train)\n",
    "\n",
    "\n",
    "# MAE on the Train\n",
    "y_pred = forest.predict(X_test)\n",
    "print(f\" The MAE on Train is {mean_absolute_error(y_train,lin.predict(X_train)):.2f}\")\n",
    "print(f\" The MAE on Test is {mean_absolute_error(y_test,y_pred):.2f}\")\n"
   ]
  },
  {
   "cell_type": "markdown",
   "id": "5bd16af1",
   "metadata": {},
   "source": [
    "### KNN Regressor\n"
   ]
  },
  {
   "cell_type": "code",
   "execution_count": null,
   "id": "dfeecefd",
   "metadata": {
    "ExecuteTime": {
     "end_time": "2024-09-05T12:09:39.168243Z",
     "start_time": "2024-09-05T12:09:38.916463Z"
    }
   },
   "outputs": [],
   "source": [
    "from sklearn.neighbors import KNeighborsRegressor\n",
    "\n",
    "# Instantie\n",
    "knn = KNeighborsRegressor()\n",
    "# Fit on the Train \n",
    "knn.fit(X_train,y_train) \n",
    "# Score  (R2 par defautl pour une regression)\n",
    "print(knn.score(X_test,y_test))\n",
    "from sklearn.metrics import mean_squared_error\n",
    "# MAE on the Train\n",
    "y_pred = knn.predict(X_test)\n",
    "print(f\" The MSE on Train is {mean_absolute_error(y_train,knn.predict(X_train)):.2f}\")\n",
    "print(f\" The MSE on Test is {mean_absolute_error(y_test,y_pred):.2f}\")\n"
   ]
  },
  {
   "cell_type": "markdown",
   "id": "294c62de",
   "metadata": {},
   "source": [
    "## GridSearch "
   ]
  },
  {
   "cell_type": "code",
   "execution_count": null,
   "id": "93ffe0a1",
   "metadata": {
    "ExecuteTime": {
     "end_time": "2024-09-05T12:09:39.178619Z",
     "start_time": "2024-09-05T12:09:39.169575Z"
    }
   },
   "outputs": [],
   "source": [
    "RandomForestRegressor()"
   ]
  },
  {
   "cell_type": "code",
   "execution_count": null,
   "id": "482a6326",
   "metadata": {
    "ExecuteTime": {
     "end_time": "2024-09-05T12:09:45.071299Z",
     "start_time": "2024-09-05T12:09:39.181195Z"
    }
   },
   "outputs": [],
   "source": [
    "from sklearn.model_selection import GridSearchCV \n",
    "\n",
    "params = {\"n_estimators\":[50,100,200],\n",
    "           #\"max_depth\": [None,10,15,20],\n",
    "           #\"min_samples_leaf\":[1,2,5,10], \n",
    "           #\"bootstrap\": [True,False]\n",
    "\n",
    "}\n",
    "\n",
    "\n",
    "search = GridSearchCV(RandomForestRegressor()\n",
    "                     ,params\n",
    "                     ,verbose = 10)\n",
    "\n",
    "search.fit(X_train\n",
    "          ,y_train)\n"
   ]
  },
  {
   "cell_type": "code",
   "execution_count": null,
   "id": "ef1866db",
   "metadata": {
    "ExecuteTime": {
     "end_time": "2024-09-05T12:09:45.073936Z",
     "start_time": "2024-09-05T12:09:45.073929Z"
    }
   },
   "outputs": [],
   "source": [
    "search.best_estimator_"
   ]
  },
  {
   "cell_type": "code",
   "execution_count": null,
   "id": "9076a247",
   "metadata": {
    "ExecuteTime": {
     "end_time": "2024-09-05T12:09:45.074812Z",
     "start_time": "2024-09-05T12:09:45.074806Z"
    }
   },
   "outputs": [],
   "source": [
    "search.best_params_"
   ]
  },
  {
   "cell_type": "code",
   "execution_count": null,
   "id": "7b68a51a",
   "metadata": {
    "ExecuteTime": {
     "end_time": "2024-09-05T12:09:45.076002Z",
     "start_time": "2024-09-05T12:09:45.075997Z"
    }
   },
   "outputs": [],
   "source": [
    "search.score(X_test,y_test)"
   ]
  },
  {
   "cell_type": "code",
   "execution_count": null,
   "id": "ca976f55",
   "metadata": {
    "ExecuteTime": {
     "end_time": "2024-09-05T12:09:45.076687Z",
     "start_time": "2024-09-05T12:09:45.076680Z"
    }
   },
   "outputs": [],
   "source": [
    "mean_absolute_error(search.predict(X_test),y_test)"
   ]
  },
  {
   "cell_type": "markdown",
   "id": "81b5eb43",
   "metadata": {},
   "source": [
    "## Training on whole Data"
   ]
  },
  {
   "cell_type": "code",
   "execution_count": null,
   "id": "5c0735f5",
   "metadata": {
    "ExecuteTime": {
     "end_time": "2024-09-05T12:09:45.077770Z",
     "start_time": "2024-09-05T12:09:45.077764Z"
    }
   },
   "outputs": [],
   "source": [
    "def f(a,b=4) :\n",
    "    print(a,b)\n",
    "    \n",
    "f(**{\"a\":3,\"b\":5})"
   ]
  },
  {
   "cell_type": "code",
   "execution_count": null,
   "id": "46c89b10",
   "metadata": {
    "ExecuteTime": {
     "end_time": "2024-09-05T12:17:49.488510Z",
     "start_time": "2024-09-05T12:17:49.464692Z"
    }
   },
   "outputs": [],
   "source": [
    "best_model = RandomForestRegressor(**search.best_params_)\n",
    "X_total = pd.concat([X_train,X_test])\n",
    "y_total = pd.concat([y_train,y_test])\n",
    "best_model.fit(X_total,y_total)"
   ]
  },
  {
   "cell_type": "markdown",
   "id": "87444a93",
   "metadata": {},
   "source": [
    "# Pipeline \n",
    "\n",
    "A pipeline is a way to wrap our processor + model in one "
   ]
  },
  {
   "cell_type": "markdown",
   "id": "3f06de0d",
   "metadata": {},
   "source": [
    "## Saving model without Pipeline"
   ]
  },
  {
   "cell_type": "code",
   "execution_count": null,
   "id": "88a8aed7",
   "metadata": {
    "ExecuteTime": {
     "end_time": "2024-09-05T12:09:45.079432Z",
     "start_time": "2024-09-05T12:09:45.079426Z"
    }
   },
   "outputs": [],
   "source": [
    "import pickle, joblib\n",
    "\n",
    "# Reminder : Saving model\n",
    "with open(\"model.pickle\",\"wb\") as file : \n",
    "    joblib.dump(best_model,file)"
   ]
  },
  {
   "cell_type": "code",
   "execution_count": null,
   "id": "7e9673b3",
   "metadata": {
    "ExecuteTime": {
     "end_time": "2024-09-05T12:09:45.080511Z",
     "start_time": "2024-09-05T12:09:45.080505Z"
    }
   },
   "outputs": [],
   "source": [
    "\n",
    "# Loading model \n",
    "with open(\"model.pickle\",\"rb\") as file : \n",
    "    new_model = joblib.load(file)\n",
    "    \n"
   ]
  },
  {
   "cell_type": "markdown",
   "id": "096c278d",
   "metadata": {},
   "source": [
    "## Pipeline"
   ]
  },
  {
   "cell_type": "code",
   "execution_count": null,
   "id": "de4e11a9",
   "metadata": {
    "ExecuteTime": {
     "end_time": "2024-09-05T12:10:12.449846Z",
     "start_time": "2024-09-05T12:10:12.446097Z"
    }
   },
   "outputs": [],
   "source": [
    "from sklearn.pipeline import Pipeline,make_pipeline\n",
    "from sklearn.compose import make_column_selector\n",
    "from sklearn.compose import ColumnTransformer\n"
   ]
  },
  {
   "cell_type": "code",
   "execution_count": null,
   "id": "5eeab338",
   "metadata": {
    "ExecuteTime": {
     "end_time": "2024-09-05T12:10:12.651057Z",
     "start_time": "2024-09-05T12:10:12.619721Z"
    }
   },
   "outputs": [],
   "source": [
    "num_preproc_pipe = Pipeline([(\"Imputer\",SimpleImputer())\n",
    "                             ,(\"Scaling\",StandardScaler())\n",
    "                            ])\n",
    "\n",
    "cat_preproc_pipe = Pipeline([(\"imputer\",SimpleImputer(strategy=\"most_frequent\"))\n",
    "                             ,(\"Encode\",OneHotEncoder(drop=\"first\",\n",
    "                                                      handle_unknown=\"ignore\"\n",
    "                                                      ))\n",
    "    \n",
    "                            ])\n",
    "preproc_pipe = ColumnTransformer([(\"NumPreproc\",num_preproc_pipe,make_column_selector(dtype_include=\"number\"))\n",
    "                    ,(\"CatPreproc\",cat_preproc_pipe,make_column_selector(dtype_include=\"object\"))\n",
    "                                 ])\n",
    "preproc_pipe"
   ]
  },
  {
   "cell_type": "code",
   "execution_count": null,
   "id": "ee9e14bb",
   "metadata": {
    "ExecuteTime": {
     "end_time": "2024-09-05T12:19:28.423787Z",
     "start_time": "2024-09-05T12:19:28.358811Z"
    }
   },
   "outputs": [],
   "source": [
    "from sklearn.ensemble import VotingRegressor\n",
    "\n",
    "\n",
    "final_pipe = Pipeline([(\"Fulpreproc\",preproc_pipe)\n",
    "                      ,(\"Voting\",VotingRegressor([(\"rand\",RandomForestRegressor(min_samples_leaf=5))\n",
    "                                                 ,(\"lin\",LinearRegression())\n",
    "                                                  ,(\"knn\",KNeighborsRegressor())\n",
    "                                                 ])\n",
    "                       )])\n",
    "final_pipe"
   ]
  },
  {
   "cell_type": "code",
   "execution_count": null,
   "id": "dacd15ec",
   "metadata": {
    "ExecuteTime": {
     "end_time": "2024-09-05T12:19:31.382335Z",
     "start_time": "2024-09-05T12:19:30.455270Z"
    }
   },
   "outputs": [],
   "source": [
    "final_pipe.fit(X_total,y_total)"
   ]
  },
  {
   "cell_type": "code",
   "execution_count": null,
   "id": "d7d93f1b",
   "metadata": {
    "ExecuteTime": {
     "end_time": "2024-09-05T12:21:22.896431Z",
     "start_time": "2024-09-05T12:21:22.893471Z"
    }
   },
   "outputs": [],
   "source": [
    "import os"
   ]
  },
  {
   "cell_type": "code",
   "execution_count": null,
   "id": "8e134d45",
   "metadata": {
    "ExecuteTime": {
     "end_time": "2024-09-05T12:20:31.538626Z",
     "start_time": "2024-09-05T12:20:31.510568Z"
    }
   },
   "outputs": [],
   "source": [
    "final_preproc = final_pipe.steps[0][1]\n",
    "\n",
    "if not os.path.exists(\"../models\") :\n",
    "    os.mkdir(\"models\")\n",
    "\n",
    "with open(\"../models/preproc.pickle\",\"wb\") as file :\n",
    "    joblib.dump(final_preproc,file)\n",
    "\n",
    "with open(\"../models/preproc.pickle\",\"rb\") as file :\n",
    "    loaded_final_preproc = joblib.load(file)\n",
    "\n",
    "\n",
    "\n",
    "    \n",
    "loaded_final_preproc"
   ]
  }
 ],
 "metadata": {
  "kernelspec": {
   "display_name": "Python 3 (ipykernel)",
   "language": "python",
   "name": "python3"
  },
  "language_info": {
   "codemirror_mode": {
    "name": "ipython",
    "version": 3
   },
   "file_extension": ".py",
   "mimetype": "text/x-python",
   "name": "python",
   "nbconvert_exporter": "python",
   "pygments_lexer": "ipython3",
   "version": "3.10.12"
  },
  "toc": {
   "base_numbering": 1,
   "nav_menu": {},
   "number_sections": true,
   "sideBar": true,
   "skip_h1_title": false,
   "title_cell": "Table of Contents",
   "title_sidebar": "Contents",
   "toc_cell": false,
   "toc_position": {
    "height": "calc(100% - 180px)",
    "left": "10px",
    "top": "150px",
    "width": "268.8px"
   },
   "toc_section_display": true,
   "toc_window_display": true
  }
 },
 "nbformat": 4,
 "nbformat_minor": 5
}
